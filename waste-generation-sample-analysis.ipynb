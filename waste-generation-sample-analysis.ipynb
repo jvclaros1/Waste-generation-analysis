{
 "cells": [
  {
   "cell_type": "code",
   "execution_count": 1,
   "id": "8e8c7c8a",
   "metadata": {
    "_cell_guid": "b1076dfc-b9ad-4769-8c92-a6c4dae69d19",
    "_uuid": "8f2839f25d086af736a60e9eeb907d3b93b6e0e5",
    "execution": {
     "iopub.execute_input": "2025-05-20T14:51:50.046307Z",
     "iopub.status.busy": "2025-05-20T14:51:50.045784Z",
     "iopub.status.idle": "2025-05-20T14:51:53.407824Z",
     "shell.execute_reply": "2025-05-20T14:51:53.405410Z"
    },
    "papermill": {
     "duration": 3.369817,
     "end_time": "2025-05-20T14:51:53.410341",
     "exception": false,
     "start_time": "2025-05-20T14:51:50.040524",
     "status": "completed"
    },
    "tags": []
   },
   "outputs": [
    {
     "name": "stdout",
     "output_type": "stream",
     "text": [
      "/kaggle/input/plastic-waste-generation-worldwide/plastic-waste-generation.csv\n"
     ]
    }
   ],
   "source": [
    "# This Python 3 environment comes with many helpful analytics libraries installed\n",
    "# It is defined by the kaggle/python Docker image: https://github.com/kaggle/docker-python\n",
    "# For example, here's several helpful packages to load\n",
    "\n",
    "import numpy as np # linear algebra\n",
    "import pandas as pd # data processing, CSV file I/O (e.g. pd.read_csv)\n",
    "import matplotlib.pyplot as plt\n",
    "import seaborn as sns\n",
    "\n",
    "# Input data files are available in the read-only \"../input/\" directory\n",
    "# For example, running this (by clicking run or pressing Shift+Enter) will list all files under the input directory\n",
    "\n",
    "import os\n",
    "for dirname, _, filenames in os.walk('/kaggle/input'):\n",
    "    for filename in filenames:\n",
    "        print(os.path.join(dirname, filename))\n",
    "\n",
    "# You can write up to 20GB to the current directory (/kaggle/working/) that gets preserved as output when you create a version using \"Save & Run All\" \n",
    "# You can also write temporary files to /kaggle/temp/, but they won't be saved outside of the current session"
   ]
  },
  {
   "cell_type": "code",
   "execution_count": 2,
   "id": "bb6458ed",
   "metadata": {
    "execution": {
     "iopub.execute_input": "2025-05-20T14:51:53.417875Z",
     "iopub.status.busy": "2025-05-20T14:51:53.417337Z",
     "iopub.status.idle": "2025-05-20T14:51:53.459497Z",
     "shell.execute_reply": "2025-05-20T14:51:53.458224Z"
    },
    "papermill": {
     "duration": 0.047945,
     "end_time": "2025-05-20T14:51:53.461464",
     "exception": false,
     "start_time": "2025-05-20T14:51:53.413519",
     "status": "completed"
    },
    "tags": []
   },
   "outputs": [
    {
     "data": {
      "text/html": [
       "<div>\n",
       "<style scoped>\n",
       "    .dataframe tbody tr th:only-of-type {\n",
       "        vertical-align: middle;\n",
       "    }\n",
       "\n",
       "    .dataframe tbody tr th {\n",
       "        vertical-align: top;\n",
       "    }\n",
       "\n",
       "    .dataframe thead th {\n",
       "        text-align: right;\n",
       "    }\n",
       "</style>\n",
       "<table border=\"1\" class=\"dataframe\">\n",
       "  <thead>\n",
       "    <tr style=\"text-align: right;\">\n",
       "      <th></th>\n",
       "      <th>Entity</th>\n",
       "      <th>Year</th>\n",
       "      <th>Plastic waste generation (tonnes, total)</th>\n",
       "    </tr>\n",
       "  </thead>\n",
       "  <tbody>\n",
       "    <tr>\n",
       "      <th>0</th>\n",
       "      <td>Albania</td>\n",
       "      <td>2010</td>\n",
       "      <td>73364</td>\n",
       "    </tr>\n",
       "    <tr>\n",
       "      <th>1</th>\n",
       "      <td>Algeria</td>\n",
       "      <td>2010</td>\n",
       "      <td>1898343</td>\n",
       "    </tr>\n",
       "    <tr>\n",
       "      <th>2</th>\n",
       "      <td>Angola</td>\n",
       "      <td>2010</td>\n",
       "      <td>528843</td>\n",
       "    </tr>\n",
       "    <tr>\n",
       "      <th>3</th>\n",
       "      <td>Antigua and Barbuda</td>\n",
       "      <td>2010</td>\n",
       "      <td>22804</td>\n",
       "    </tr>\n",
       "    <tr>\n",
       "      <th>4</th>\n",
       "      <td>Argentina</td>\n",
       "      <td>2010</td>\n",
       "      <td>2753550</td>\n",
       "    </tr>\n",
       "    <tr>\n",
       "      <th>5</th>\n",
       "      <td>Aruba</td>\n",
       "      <td>2010</td>\n",
       "      <td>9352</td>\n",
       "    </tr>\n",
       "    <tr>\n",
       "      <th>6</th>\n",
       "      <td>Australia</td>\n",
       "      <td>2010</td>\n",
       "      <td>900658</td>\n",
       "    </tr>\n",
       "    <tr>\n",
       "      <th>7</th>\n",
       "      <td>Bahamas</td>\n",
       "      <td>2010</td>\n",
       "      <td>51364</td>\n",
       "    </tr>\n",
       "    <tr>\n",
       "      <th>8</th>\n",
       "      <td>Bahrain</td>\n",
       "      <td>2010</td>\n",
       "      <td>59785</td>\n",
       "    </tr>\n",
       "    <tr>\n",
       "      <th>9</th>\n",
       "      <td>Bangladesh</td>\n",
       "      <td>2010</td>\n",
       "      <td>1888170</td>\n",
       "    </tr>\n",
       "  </tbody>\n",
       "</table>\n",
       "</div>"
      ],
      "text/plain": [
       "                Entity  Year  Plastic waste generation (tonnes, total)\n",
       "0              Albania  2010                                     73364\n",
       "1              Algeria  2010                                   1898343\n",
       "2               Angola  2010                                    528843\n",
       "3  Antigua and Barbuda  2010                                     22804\n",
       "4            Argentina  2010                                   2753550\n",
       "5                Aruba  2010                                      9352\n",
       "6            Australia  2010                                    900658\n",
       "7              Bahamas  2010                                     51364\n",
       "8              Bahrain  2010                                     59785\n",
       "9           Bangladesh  2010                                   1888170"
      ]
     },
     "execution_count": 2,
     "metadata": {},
     "output_type": "execute_result"
    }
   ],
   "source": [
    "# Load the data set into 'waste' data frame\n",
    "\n",
    "waste = pd.read_csv('/kaggle/input/plastic-waste-generation-worldwide/plastic-waste-generation.csv')\n",
    "\n",
    "# Load the first 10 data of the data frame\n",
    "waste.head(10)"
   ]
  },
  {
   "cell_type": "code",
   "execution_count": 3,
   "id": "9dfb96c2",
   "metadata": {
    "execution": {
     "iopub.execute_input": "2025-05-20T14:51:53.469272Z",
     "iopub.status.busy": "2025-05-20T14:51:53.468748Z",
     "iopub.status.idle": "2025-05-20T14:51:53.475433Z",
     "shell.execute_reply": "2025-05-20T14:51:53.474128Z"
    },
    "papermill": {
     "duration": 0.012818,
     "end_time": "2025-05-20T14:51:53.477480",
     "exception": false,
     "start_time": "2025-05-20T14:51:53.464662",
     "status": "completed"
    },
    "tags": []
   },
   "outputs": [],
   "source": [
    "# Renaming Columns for better readability\n",
    "\n",
    "waste = waste.rename(columns = {'Plastic waste generation (tonnes, total)': 'Waste in Tonnes', \\\n",
    "                                'Entity': 'Country'}).copy()\n",
    "    "
   ]
  },
  {
   "cell_type": "code",
   "execution_count": 4,
   "id": "92531e9e",
   "metadata": {
    "execution": {
     "iopub.execute_input": "2025-05-20T14:51:53.485764Z",
     "iopub.status.busy": "2025-05-20T14:51:53.485288Z",
     "iopub.status.idle": "2025-05-20T14:51:53.521377Z",
     "shell.execute_reply": "2025-05-20T14:51:53.519926Z"
    },
    "papermill": {
     "duration": 0.042837,
     "end_time": "2025-05-20T14:51:53.523609",
     "exception": false,
     "start_time": "2025-05-20T14:51:53.480772",
     "status": "completed"
    },
    "tags": []
   },
   "outputs": [
    {
     "name": "stdout",
     "output_type": "stream",
     "text": [
      "<class 'pandas.core.frame.DataFrame'>\n",
      "RangeIndex: 168 entries, 0 to 167\n",
      "Data columns (total 3 columns):\n",
      " #   Column           Non-Null Count  Dtype \n",
      "---  ------           --------------  ----- \n",
      " 0   Country          168 non-null    object\n",
      " 1   Year             168 non-null    int64 \n",
      " 2   Waste in Tonnes  168 non-null    int64 \n",
      "dtypes: int64(2), object(1)\n",
      "memory usage: 4.1+ KB\n"
     ]
    }
   ],
   "source": [
    "# Check the data set values, and data type\n",
    "waste.info()"
   ]
  },
  {
   "cell_type": "code",
   "execution_count": 5,
   "id": "d1263856",
   "metadata": {
    "execution": {
     "iopub.execute_input": "2025-05-20T14:51:53.531723Z",
     "iopub.status.busy": "2025-05-20T14:51:53.531213Z",
     "iopub.status.idle": "2025-05-20T14:51:53.539620Z",
     "shell.execute_reply": "2025-05-20T14:51:53.537984Z"
    },
    "papermill": {
     "duration": 0.015302,
     "end_time": "2025-05-20T14:51:53.542197",
     "exception": false,
     "start_time": "2025-05-20T14:51:53.526895",
     "status": "completed"
    },
    "tags": []
   },
   "outputs": [],
   "source": [
    "# Droping year as the data is exlcusively are in the same year, 2010\n",
    "\n",
    "waste = waste.drop('Year', axis = 1)"
   ]
  },
  {
   "cell_type": "code",
   "execution_count": 6,
   "id": "63d6624d",
   "metadata": {
    "execution": {
     "iopub.execute_input": "2025-05-20T14:51:53.550127Z",
     "iopub.status.busy": "2025-05-20T14:51:53.549710Z",
     "iopub.status.idle": "2025-05-20T14:51:53.559298Z",
     "shell.execute_reply": "2025-05-20T14:51:53.557633Z"
    },
    "papermill": {
     "duration": 0.016027,
     "end_time": "2025-05-20T14:51:53.561568",
     "exception": false,
     "start_time": "2025-05-20T14:51:53.545541",
     "status": "completed"
    },
    "tags": []
   },
   "outputs": [
    {
     "data": {
      "text/plain": [
       "Country            0\n",
       "Waste in Tonnes    0\n",
       "dtype: int64"
      ]
     },
     "execution_count": 6,
     "metadata": {},
     "output_type": "execute_result"
    }
   ],
   "source": [
    "# Checking for null values\n",
    "waste.isna().sum()"
   ]
  },
  {
   "cell_type": "code",
   "execution_count": 7,
   "id": "1e600fc3",
   "metadata": {
    "execution": {
     "iopub.execute_input": "2025-05-20T14:51:53.574268Z",
     "iopub.status.busy": "2025-05-20T14:51:53.573793Z",
     "iopub.status.idle": "2025-05-20T14:51:53.587513Z",
     "shell.execute_reply": "2025-05-20T14:51:53.586217Z"
    },
    "papermill": {
     "duration": 0.022448,
     "end_time": "2025-05-20T14:51:53.589629",
     "exception": false,
     "start_time": "2025-05-20T14:51:53.567181",
     "status": "completed"
    },
    "tags": []
   },
   "outputs": [
    {
     "data": {
      "text/html": [
       "<div>\n",
       "<style scoped>\n",
       "    .dataframe tbody tr th:only-of-type {\n",
       "        vertical-align: middle;\n",
       "    }\n",
       "\n",
       "    .dataframe tbody tr th {\n",
       "        vertical-align: top;\n",
       "    }\n",
       "\n",
       "    .dataframe thead th {\n",
       "        text-align: right;\n",
       "    }\n",
       "</style>\n",
       "<table border=\"1\" class=\"dataframe\">\n",
       "  <thead>\n",
       "    <tr style=\"text-align: right;\">\n",
       "      <th></th>\n",
       "      <th>Country</th>\n",
       "      <th>Waste in Tonnes</th>\n",
       "    </tr>\n",
       "  </thead>\n",
       "  <tbody>\n",
       "    <tr>\n",
       "      <th>0</th>\n",
       "      <td>China</td>\n",
       "      <td>59079741</td>\n",
       "    </tr>\n",
       "    <tr>\n",
       "      <th>1</th>\n",
       "      <td>United States</td>\n",
       "      <td>37825550</td>\n",
       "    </tr>\n",
       "    <tr>\n",
       "      <th>2</th>\n",
       "      <td>Germany</td>\n",
       "      <td>14476561</td>\n",
       "    </tr>\n",
       "    <tr>\n",
       "      <th>3</th>\n",
       "      <td>Brazil</td>\n",
       "      <td>11852055</td>\n",
       "    </tr>\n",
       "    <tr>\n",
       "      <th>4</th>\n",
       "      <td>Japan</td>\n",
       "      <td>7993489</td>\n",
       "    </tr>\n",
       "    <tr>\n",
       "      <th>5</th>\n",
       "      <td>Pakistan</td>\n",
       "      <td>6412210</td>\n",
       "    </tr>\n",
       "    <tr>\n",
       "      <th>6</th>\n",
       "      <td>Nigeria</td>\n",
       "      <td>5961750</td>\n",
       "    </tr>\n",
       "    <tr>\n",
       "      <th>7</th>\n",
       "      <td>Russia</td>\n",
       "      <td>5839685</td>\n",
       "    </tr>\n",
       "    <tr>\n",
       "      <th>8</th>\n",
       "      <td>Turkey</td>\n",
       "      <td>5596657</td>\n",
       "    </tr>\n",
       "    <tr>\n",
       "      <th>9</th>\n",
       "      <td>Egypt</td>\n",
       "      <td>5464471</td>\n",
       "    </tr>\n",
       "  </tbody>\n",
       "</table>\n",
       "</div>"
      ],
      "text/plain": [
       "         Country  Waste in Tonnes\n",
       "0          China         59079741\n",
       "1  United States         37825550\n",
       "2        Germany         14476561\n",
       "3         Brazil         11852055\n",
       "4          Japan          7993489\n",
       "5       Pakistan          6412210\n",
       "6        Nigeria          5961750\n",
       "7         Russia          5839685\n",
       "8         Turkey          5596657\n",
       "9          Egypt          5464471"
      ]
     },
     "execution_count": 7,
     "metadata": {},
     "output_type": "execute_result"
    }
   ],
   "source": [
    "# Making a subset of top 10 countries \n",
    "\n",
    "top_10 = waste.sort_values(by = 'Waste in Tonnes', ascending = False).reset_index(drop = True).head(10)\n",
    "top_10"
   ]
  },
  {
   "cell_type": "code",
   "execution_count": 8,
   "id": "87fd19bf",
   "metadata": {
    "execution": {
     "iopub.execute_input": "2025-05-20T14:51:53.603332Z",
     "iopub.status.busy": "2025-05-20T14:51:53.602854Z",
     "iopub.status.idle": "2025-05-20T14:51:53.950502Z",
     "shell.execute_reply": "2025-05-20T14:51:53.949143Z"
    },
    "papermill": {
     "duration": 0.356982,
     "end_time": "2025-05-20T14:51:53.952655",
     "exception": false,
     "start_time": "2025-05-20T14:51:53.595673",
     "status": "completed"
    },
    "tags": []
   },
   "outputs": [
    {
     "data": {
      "image/png": "[encoded data removed]",
      "text/plain": [
       "<Figure size 640x480 with 1 Axes>"
      ]
     },
     "metadata": {},
     "output_type": "display_data"
    }
   ],
   "source": [
    "## What are the top 10 countries that produced the most wast in 2010? \n",
    "\n",
    "sns.barplot(top_10, y = 'Country', x = 'Waste in Tonnes', orient = 'h')\n",
    "plt.title('Top 10 Countries that produced the most waste in 2010')\n",
    "plt.show()"
   ]
  }
 ],
 "metadata": {
  "kaggle": {
   "accelerator": "none",
   "dataSources": [
    {
     "datasetId": 6616304,
     "sourceId": 10680270,
     "sourceType": "datasetVersion"
    }
   ],
   "dockerImageVersionId": 30918,
   "isGpuEnabled": false,
   "isInternetEnabled": false,
   "language": "python",
   "sourceType": "notebook"
  },
  "kernelspec": {
   "display_name": "Python 3",
   "language": "python",
   "name": "python3"
  },
  "language_info": {
   "codemirror_mode": {
    "name": "ipython",
    "version": 3
   },
   "file_extension": ".py",
   "mimetype": "text/x-python",
   "name": "python",
   "nbconvert_exporter": "python",
   "pygments_lexer": "ipython3",
   "version": "3.10.12"
  },
  "papermill": {
   "default_parameters": {},
   "duration": 8.860216,
   "end_time": "2025-05-20T14:51:54.678775",
   "environment_variables": {},
   "exception": null,
   "input_path": "__notebook__.ipynb",
   "output_path": "__notebook__.ipynb",
   "parameters": {},
   "start_time": "2025-05-20T14:51:45.818559",
   "version": "2.6.0"
  }
 },
 "nbformat": 4,
 "nbformat_minor": 5
}
